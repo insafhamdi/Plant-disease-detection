{
 "cells": [
  {
   "cell_type": "code",
   "execution_count": 1,
   "metadata": {},
   "outputs": [],
   "source": [
    "import numpy as np\n",
    "import matplotlib.pyplot as plt\n",
    "import torch\n",
    "import os\n",
    "from tqdm import tqdm\n",
    "from PIL import Image\n",
    "import time \n",
    "import torch.nn as nn\n",
    "import torchvision.transforms as transforms\n",
    "import torch.optim as optim\n",
    "from torch.utils.data import Dataset, DataLoader, random_split\n",
    "import torchvision.datasets as datasets\n",
    "from torchmetrics import Accuracy, Precision, Recall, F1Score"
   ]
  },
  {
   "cell_type": "code",
   "execution_count": 2,
   "metadata": {},
   "outputs": [],
   "source": [
    "\n",
    "class CustomDataset(Dataset):\n",
    "    def __init__(self, data_dir, transform=None):\n",
    "        self.data_dir = data_dir\n",
    "        self.transform = transform\n",
    "        self.classes = sorted(os.listdir(data_dir))\n",
    "\n",
    "        self.images = []\n",
    "        self.labels = []\n",
    "\n",
    "        for i, class_name in enumerate(self.classes):\n",
    "            class_dir = os.path.join(data_dir, class_name)\n",
    "            for image_name in os.listdir(class_dir):\n",
    "                image_path = os.path.join(class_dir, image_name)\n",
    "                self.images.append(image_path)\n",
    "                self.labels.append(i)\n",
    "\n",
    "    def __len__(self):\n",
    "        return len(self.images)\n",
    "\n",
    "    def __getitem__(self, idx):\n",
    "        img_path = self.images[idx]\n",
    "        image = Image.open(img_path).convert('RGB')\n",
    "        label = self.labels[idx]\n",
    "\n",
    "        if self.transform:\n",
    "            image = self.transform(image)\n",
    "\n",
    "        return image, label"
   ]
  },
  {
   "cell_type": "code",
   "execution_count": 3,
   "metadata": {},
   "outputs": [],
   "source": [
    "def create_data_loaders(dataset_path, train_size=0.8, batch_size=32, shuffle=True):\n",
    "    transform = transforms.Compose([\n",
    "        transforms.Resize((256, 256)),\n",
    "        transforms.ToTensor(), \n",
    "    ])\n",
    "\n",
    "    dataset = CustomDataset(dataset_path, transform=transform)\n",
    "\n",
    "    # Define sizes for train, validation, and test sets\n",
    "    train_size = int(train_size * len(dataset))\n",
    "    val_size = (len(dataset) - train_size) // 2\n",
    "    test_size = len(dataset) - train_size - val_size\n",
    "\n",
    "    # Split dataset into train, validation, and test sets\n",
    "    train_data, val_data, test_data = torch.utils.data.random_split(dataset, [train_size, val_size, test_size])\n",
    "\n",
    "    # Create DataLoader instances for training, validation, and testing\n",
    "    train_loader = DataLoader(train_data, batch_size=batch_size, shuffle=shuffle)\n",
    "    val_loader = DataLoader(val_data, batch_size=batch_size, shuffle=False)\n",
    "    test_loader = DataLoader(test_data, batch_size=batch_size, shuffle=False)\n",
    "\n",
    "    return train_loader, val_loader, test_loader"
   ]
  },
  {
   "cell_type": "code",
   "execution_count": 5,
   "metadata": {},
   "outputs": [
    {
     "name": "stdout",
     "output_type": "stream",
     "text": [
      "Number of batches in train_loader: 1538\n",
      "Number of batches in val_loader: 193\n",
      "Number of batches in test_loader: 193\n"
     ]
    }
   ],
   "source": [
    "# Define the dataset path\n",
    "dataset_path = 'C:/Users/hamdi/Desktop/pfa/Plant_leaf_diseases_dataset_with_augmentation/Plant_leave_diseases_dataset_with_augmentation'\n",
    "\n",
    "# Define batch size for DataLoader\n",
    "batch_size = 32\n",
    "\n",
    "# Create CustomDataLoader instances for training, validation, and testing\n",
    "train_loader, val_loader, test_loader = create_data_loaders(dataset_path, batch_size=batch_size)\n",
    "\n",
    "# Check the lengths of the loaders\n",
    "print(f\"Number of batches in train_loader: {len(train_loader)}\")\n",
    "print(f\"Number of batches in val_loader: {len(val_loader)}\")\n",
    "print(f\"Number of batches in test_loader: {len(test_loader)}\")"
   ]
  },
  {
   "cell_type": "code",
   "execution_count": 9,
   "metadata": {},
   "outputs": [
    {
     "name": "stdout",
     "output_type": "stream",
     "text": [
      "0.0 0.48252156376838684 1.0\n"
     ]
    }
   ],
   "source": [
    "for image, label in test_loader:\n",
    "    \n",
    "    min_val = torch.min(image)\n",
    "    mean_val = torch.mean(image)\n",
    "    max_val = torch.max(image)\n",
    "    \n",
    "    print(min_val.item(), mean_val.item(), max_val.item())\n",
    "    break"
   ]
  },
  {
   "cell_type": "markdown",
   "metadata": {},
   "source": [
    "Our Model"
   ]
  },
  {
   "cell_type": "code",
   "execution_count": 10,
   "metadata": {},
   "outputs": [],
   "source": [
    "class MultiClassCNN(nn.Module):\n",
    "    def __init__(self):\n",
    "        super(MultiClassCNN, self).__init__()\n",
    "        self.conv_block = nn.Sequential(\n",
    "            nn.Conv2d(3, 16, kernel_size=3, stride=1),\n",
    "            nn.ReLU(),\n",
    "            nn.MaxPool2d(kernel_size=2, stride=2),\n",
    "            nn.Conv2d(16, 32, kernel_size=3, stride=1),\n",
    "            nn.ReLU(),\n",
    "            nn.MaxPool2d(kernel_size=2, stride=2)\n",
    "        )\n",
    "        self.flatten = nn.Flatten()\n",
    "        self.fc_block = nn.Sequential(\n",
    "            nn.Linear(32 * 62 * 62, 256),  # Calculated based on the output size after convolutions\n",
    "            nn.ReLU(),\n",
    "            nn.Linear(256, 128),\n",
    "            nn.ReLU(),\n",
    "            nn.Linear(128, 39)  # 39 classes\n",
    "        ) \n",
    "\n",
    "    def forward(self, x):\n",
    "        x = self.conv_block(x)\n",
    "        x = self.flatten(x)\n",
    "        x = self.fc_block(x)\n",
    "        return x"
   ]
  },
  {
   "cell_type": "markdown",
   "metadata": {},
   "source": [
    "\n",
    "Convolution Layers (nn.Conv2d):\n",
    "\n",
    "First Layer: Converts the 3-channel (RGB images) input into 16 feature maps. The kernel_size is 3 and stride is 1.\n",
    "Second Layer: Takes the 16 feature maps from the first convolution layer and transforms them into 32 feature maps.\n",
    "\n",
    "Activation Function (nn.ReLU):\n",
    "\n",
    "ReLU (Rectified Linear Unit) is used as the activation function after each convolution layer to introduce non-linearity, enabling the model to capture complex relationships in the data.\n",
    "\n",
    "Pooling Layers (nn.MaxPool2d):\n",
    "\n",
    "Reduces the spatial dimensions (height and width) of the input, which decreases the number of parameters and computation required in the network, while also allowing the network to better generalize by extracting more robust features.\n",
    "\n",
    "Flatten Layer (nn.Flatten):\n",
    "\n",
    "Flattens the feature maps into a single vector to allow processing by fully connected (dense) layers.\n",
    "\n",
    "Fully Connected Layers (nn.Linear):\n",
    "\n",
    "First Dense Layer: Transforms the flattened features into a vector of size 256.\n",
    "Second Dense Layer: Further reduces the features to 128.\n",
    "Output Layer: The final dense layer transforms the feature vector into 39 scores, one for each class.\n",
    "\n",
    "forward Function:\n",
    "\n",
    "Data Flow (forward method): Defines how data moves through the network. Input data first passes through the conv_block, gets flattened by flatten, and finally goes through fc_block to produce the network’s outputs. This method is crucial as it specifies the forward propagation path during the training and evaluation of the model.\n",
    "\n",
    "\n",
    "In summary, MultiClassCNN is a typical CNN architecture with convolutional layers for feature extraction and fully connected layers for classification. This allows the model to process input images, learn important spatial features, and classify these images into one of 39 classes."
   ]
  },
  {
   "cell_type": "code",
   "execution_count": 12,
   "metadata": {},
   "outputs": [
    {
     "name": "stdout",
     "output_type": "stream",
     "text": [
      "Nombre total de paramètres dans le modèle : 31533319\n"
     ]
    }
   ],
   "source": [
    "\n",
    "model = MultiClassCNN()\n",
    "\n",
    "# Calcul du nombre total de paramètres\n",
    "total_params = sum(p.numel() for p in model.parameters())\n",
    "print(f\"Nombre total de paramètres dans le modèle : {total_params}\")"
   ]
  },
  {
   "cell_type": "code",
   "execution_count": 13,
   "metadata": {},
   "outputs": [
    {
     "name": "stderr",
     "output_type": "stream",
     "text": [
      "Epoch 1: 100%|██████████| 1538/1538 [37:26<00:00,  1.46s/it]   \n"
     ]
    },
    {
     "name": "stdout",
     "output_type": "stream",
     "text": [
      "Epoch 1, Loss: 1.1122\n",
      "Accuracy: 0.6069, Precision: 0.6344, Recall: 0.6069, F1 Score: 0.6177\n"
     ]
    },
    {
     "name": "stderr",
     "output_type": "stream",
     "text": [
      "Validation: 100%|██████████| 193/193 [01:16<00:00,  2.51it/s]\n"
     ]
    },
    {
     "name": "stdout",
     "output_type": "stream",
     "text": [
      "Validation Loss: 0.6026, Validation Accuracy: 0.7709\n",
      "Time elapsed for epoch 1: 2323.94 seconds\n"
     ]
    },
    {
     "name": "stderr",
     "output_type": "stream",
     "text": [
      "Epoch 2: 100%|██████████| 1538/1538 [2:23:30<00:00,  5.60s/it]     \n"
     ]
    },
    {
     "name": "stdout",
     "output_type": "stream",
     "text": [
      "Epoch 2, Loss: 0.4554\n",
      "Accuracy: 0.7153, Precision: 0.7327, Recall: 0.7153, F1 Score: 0.7228\n"
     ]
    },
    {
     "name": "stderr",
     "output_type": "stream",
     "text": [
      "Validation: 100%|██████████| 193/193 [00:44<00:00,  4.31it/s]\n"
     ]
    },
    {
     "name": "stdout",
     "output_type": "stream",
     "text": [
      "Validation Loss: 0.5872, Validation Accuracy: 0.7798\n",
      "Time elapsed for epoch 2: 8655.41 seconds\n"
     ]
    },
    {
     "name": "stderr",
     "output_type": "stream",
     "text": [
      "Epoch 3: 100%|██████████| 1538/1538 [1:14:41<00:00,  2.91s/it]     \n"
     ]
    },
    {
     "name": "stdout",
     "output_type": "stream",
     "text": [
      "Epoch 3, Loss: 0.2596\n",
      "Accuracy: 0.7760, Precision: 0.7897, Recall: 0.7760, F1 Score: 0.7822\n"
     ]
    },
    {
     "name": "stderr",
     "output_type": "stream",
     "text": [
      "Validation: 100%|██████████| 193/193 [01:14<00:00,  2.58it/s]\n"
     ]
    },
    {
     "name": "stdout",
     "output_type": "stream",
     "text": [
      "Validation Loss: 0.5514, Validation Accuracy: 0.7871\n",
      "Time elapsed for epoch 3: 4556.25 seconds\n"
     ]
    },
    {
     "name": "stderr",
     "output_type": "stream",
     "text": [
      "Epoch 4: 100%|██████████| 1538/1538 [21:20<00:00,  1.20it/s]\n"
     ]
    },
    {
     "name": "stdout",
     "output_type": "stream",
     "text": [
      "Epoch 4, Loss: 0.1706\n",
      "Accuracy: 0.8149, Precision: 0.8263, Recall: 0.8149, F1 Score: 0.8202\n"
     ]
    },
    {
     "name": "stderr",
     "output_type": "stream",
     "text": [
      "Validation: 100%|██████████| 193/193 [00:43<00:00,  4.41it/s]\n"
     ]
    },
    {
     "name": "stdout",
     "output_type": "stream",
     "text": [
      "Validation Loss: 0.4726, Validation Accuracy: 0.8002\n",
      "Time elapsed for epoch 4: 1324.60 seconds\n"
     ]
    },
    {
     "name": "stderr",
     "output_type": "stream",
     "text": [
      "Epoch 5: 100%|██████████| 1538/1538 [17:43<00:00,  1.45it/s]\n"
     ]
    },
    {
     "name": "stdout",
     "output_type": "stream",
     "text": [
      "Epoch 5, Loss: 0.1315\n",
      "Accuracy: 0.8417, Precision: 0.8513, Recall: 0.8417, F1 Score: 0.8462\n"
     ]
    },
    {
     "name": "stderr",
     "output_type": "stream",
     "text": [
      "Validation: 100%|██████████| 193/193 [00:45<00:00,  4.23it/s]\n"
     ]
    },
    {
     "name": "stdout",
     "output_type": "stream",
     "text": [
      "Validation Loss: 0.4937, Validation Accuracy: 0.8115\n",
      "Time elapsed for epoch 5: 1109.06 seconds\n"
     ]
    },
    {
     "name": "stderr",
     "output_type": "stream",
     "text": [
      "Epoch 6: 100%|██████████| 1538/1538 [17:15<00:00,  1.49it/s]\n"
     ]
    },
    {
     "name": "stdout",
     "output_type": "stream",
     "text": [
      "Epoch 6, Loss: 0.0980\n",
      "Accuracy: 0.8618, Precision: 0.8702, Recall: 0.8618, F1 Score: 0.8658\n"
     ]
    },
    {
     "name": "stderr",
     "output_type": "stream",
     "text": [
      "Validation: 100%|██████████| 193/193 [00:45<00:00,  4.23it/s]\n"
     ]
    },
    {
     "name": "stdout",
     "output_type": "stream",
     "text": [
      "Validation Loss: 0.5421, Validation Accuracy: 0.8188\n",
      "Time elapsed for epoch 6: 1081.00 seconds\n"
     ]
    },
    {
     "name": "stderr",
     "output_type": "stream",
     "text": [
      "Epoch 7: 100%|██████████| 1538/1538 [17:41<00:00,  1.45it/s]\n"
     ]
    },
    {
     "name": "stdout",
     "output_type": "stream",
     "text": [
      "Epoch 7, Loss: 0.0949\n",
      "Accuracy: 0.8764, Precision: 0.8839, Recall: 0.8764, F1 Score: 0.8800\n"
     ]
    },
    {
     "name": "stderr",
     "output_type": "stream",
     "text": [
      "Validation: 100%|██████████| 193/193 [00:44<00:00,  4.37it/s]\n"
     ]
    },
    {
     "name": "stdout",
     "output_type": "stream",
     "text": [
      "Validation Loss: 0.5740, Validation Accuracy: 0.8223\n",
      "Time elapsed for epoch 7: 1105.81 seconds\n"
     ]
    },
    {
     "data": {
      "image/png": "[encoded data removed]",
      "text/plain": [
       "<Figure size 1000x500 with 1 Axes>"
      ]
     },
     "metadata": {},
     "output_type": "display_data"
    }
   ],
   "source": [
    "# Initialization of the model\n",
    "model = MultiClassCNN()\n",
    "\n",
    "# Definition of loss function and optimizer\n",
    "criterion = nn.CrossEntropyLoss()\n",
    "optimizer = optim.Adam(model.parameters(), lr=0.001)\n",
    "# Initialization of metrics\n",
    "accuracy = Accuracy(task='multiclass', num_classes=39, average='macro')\n",
    "precision = Precision(task='multiclass', num_classes=39, average='macro')\n",
    "recall = Recall(task='multiclass', num_classes=39, average='macro')\n",
    "f1 = F1Score(task='multiclass',num_classes=39, average='macro')\n",
    "val_accuracy = Accuracy(task='multiclass', num_classes=39, average='macro')  # Initialize validation accuracy outside the loop\n",
    "epoch_losses= []\n",
    "val_losses=[]\n",
    "# Training loop\n",
    "for epoch in range(7):  # Number of epochs\n",
    "    start_time = time.time()  # Start time\n",
    "    \n",
    "    running_loss = 0.0\n",
    "    model.train()  # Set model to training mode\n",
    "    \n",
    "    for batch_idx, (images, labels) in enumerate(tqdm(train_loader, desc=f\"Epoch {epoch+1}\")):\n",
    "            # Reset gradients\n",
    "            optimizer.zero_grad()\n",
    "\n",
    "            # Forward pass\n",
    "            outputs = model(images)\n",
    "\n",
    "            # Calculate loss\n",
    "            loss = criterion(outputs, labels)\n",
    "\n",
    "            # Backward pass\n",
    "            loss.backward()\n",
    "\n",
    "            # Update model parameters\n",
    "            optimizer.step()\n",
    "\n",
    "            # Update running loss\n",
    "            running_loss += loss.item()\n",
    "\n",
    "            # Update metrics\n",
    "            accuracy.update(outputs, labels)\n",
    "            precision.update(outputs, labels)\n",
    "            recall.update(outputs, labels)\n",
    "            f1.update(outputs, labels)\n",
    "\n",
    "    \n",
    "    # Calculate metrics after each epoch\n",
    "    epoch_loss = running_loss / len(train_loader)\n",
    "    epoch_losses.append(epoch_loss)  # Store epoch loss\n",
    "    acc = accuracy.compute()\n",
    "    prec = precision.compute()\n",
    "    rec = recall.compute()\n",
    "    f1_score = f1.compute()\n",
    "    \n",
    "    print(f\"Epoch {epoch+1}, Loss: {epoch_loss:.4f}\")\n",
    "    print(f\"Accuracy: {acc:.4f}, Precision: {prec:.4f}, Recall: {rec:.4f}, F1 Score: {f1_score:.4f}\")\n",
    "    \n",
    "    # Validation loop\n",
    "    val_loss = 0.0\n",
    "    model.eval()  # Set model to evaluation mode\n",
    "    \n",
    "    for val_images, val_labels in tqdm(val_loader, desc=\"Validation\"):\n",
    "        with torch.no_grad():\n",
    "            val_outputs = model(val_images)\n",
    "            val_loss += criterion(val_outputs, val_labels).item()\n",
    "            val_accuracy.update(val_outputs, val_labels)\n",
    "    val_acc = val_accuracy.compute()\n",
    "    val_loss /= len(val_loader)\n",
    "    val_losses.append(val_loss)  # Store validation loss\n",
    "    print(f\"Validation Loss: {val_loss:.4f}, Validation Accuracy: {val_acc:.4f}\")\n",
    "    \n",
    "    # Elapsed time\n",
    "    end_time = time.time()\n",
    "    epoch_time = end_time - start_time\n",
    "    print(f\"Time elapsed for epoch {epoch+1}: {epoch_time:.2f} seconds\")\n",
    "\n",
    "# Plotting\n",
    "plt.figure(figsize=(10, 5))\n",
    "plt.plot(range(1, len(epoch_losses) + 1), epoch_losses, label='Train Loss', marker='o')\n",
    "plt.plot(range(1, len(val_losses) + 1), val_losses, label='Validation Loss', marker='o')\n",
    "plt.xlabel('Epoch')\n",
    "plt.ylabel('Loss')\n",
    "plt.title('Training and Validation Losses')\n",
    "plt.legend()\n",
    "plt.grid(True)\n",
    "plt.show()"
   ]
  },
  {
   "cell_type": "code",
   "execution_count": 14,
   "metadata": {},
   "outputs": [
    {
     "name": "stdout",
     "output_type": "stream",
     "text": [
      "Accuracy: tensor(0.0233)\n",
      "Per-class Precision: tensor([0.0000, 0.0000, 0.0000, 0.0000, 0.0000, 0.0000, 0.0000, 0.0000, 0.0000,\n",
      "        0.0000, 0.0000, 0.0000, 0.0000, 0.0000, 0.0000, 0.0000, 0.0000, 0.0000,\n",
      "        0.0000, 0.0000, 0.0000, 0.0000, 0.0000, 0.0108, 0.0000, 0.0000, 0.0197,\n",
      "        0.0160, 0.0000, 0.0000, 0.0000, 0.0000, 0.0000, 0.0000, 0.0000, 0.0000,\n",
      "        0.0000, 0.0000, 0.0000])\n",
      "Per-class Recall: tensor([0.0000, 0.0000, 0.0000, 0.0000, 0.0000, 0.0000, 0.0000, 0.0000, 0.0000,\n",
      "        0.0000, 0.0000, 0.0000, 0.0000, 0.0000, 0.0000, 0.0000, 0.0000, 0.0000,\n",
      "        0.0000, 0.0000, 0.0000, 0.0000, 0.0000, 0.0777, 0.0000, 0.0000, 0.0688,\n",
      "        0.7629, 0.0000, 0.0000, 0.0000, 0.0000, 0.0000, 0.0000, 0.0000, 0.0000,\n",
      "        0.0000, 0.0000, 0.0000])\n"
     ]
    }
   ],
   "source": [
    "model = MultiClassCNN()\n",
    "# Initialize metrics\n",
    "accuracy = Accuracy(task='multiclass',num_classes=39, average='macro')\n",
    "precision = Precision(task='multiclass',num_classes=39, average=None)\n",
    "recall = Recall(task='multiclass',num_classes=39, average=None)\n",
    "\n",
    "# Put the model in evaluation mode\n",
    "model.eval()\n",
    "\n",
    "# Iterate over the test data\n",
    "for images, labels in test_loader:\n",
    "    # Forward pass to get the predicted labels\n",
    "    with torch.no_grad():\n",
    "        outputs = model(images)\n",
    "    predicted = torch.argmax(outputs, dim=1)\n",
    "    \n",
    "    # Update metrics\n",
    "    accuracy.update(predicted, labels)\n",
    "    precision.update(predicted, labels)\n",
    "    recall.update(predicted, labels)\n",
    "\n",
    "# Compute final values\n",
    "accuracy = accuracy.compute()\n",
    "precision = precision.compute()\n",
    "recall = recall.compute()\n",
    "\n",
    "# Print accuracy, precision, and recall\n",
    "print(\"Accuracy:\", accuracy)\n",
    "print(\"Per-class Precision:\", precision)\n",
    "print(\"Per-class Recall:\", recall)"
   ]
  },
  {
   "cell_type": "code",
   "execution_count": null,
   "metadata": {},
   "outputs": [],
   "source": []
  },
  {
   "cell_type": "code",
   "execution_count": null,
   "metadata": {},
   "outputs": [],
   "source": []
  },
  {
   "cell_type": "code",
   "execution_count": null,
   "metadata": {},
   "outputs": [],
   "source": []
  },
  {
   "cell_type": "code",
   "execution_count": null,
   "metadata": {},
   "outputs": [],
   "source": []
  },
  {
   "cell_type": "code",
   "execution_count": null,
   "metadata": {},
   "outputs": [],
   "source": []
  },
  {
   "cell_type": "code",
   "execution_count": null,
   "metadata": {},
   "outputs": [],
   "source": []
  }
 ],
 "metadata": {
  "kernelspec": {
   "display_name": "Python 3",
   "language": "python",
   "name": "python3"
  },
  "language_info": {
   "codemirror_mode": {
    "name": "ipython",
    "version": 3
   },
   "file_extension": ".py",
   "mimetype": "text/x-python",
   "name": "python",
   "nbconvert_exporter": "python",
   "pygments_lexer": "ipython3",
   "version": "3.12.1"
  }
 },
 "nbformat": 4,
 "nbformat_minor": 2
}
