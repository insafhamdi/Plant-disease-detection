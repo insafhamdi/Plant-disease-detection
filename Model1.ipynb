{
 "cells": [
  {
   "cell_type": "code",
   "execution_count": null,
   "id": "ebaf96df",
   "metadata": {},
   "outputs": [],
   "source": []
  },
  {
   "cell_type": "code",
   "execution_count": 4,
   "id": "31a14a57",
   "metadata": {},
   "outputs": [],
   "source": [
    "import numpy as np\n",
    "import matplotlib.pyplot as plt\n",
    "import torch\n",
    "import os\n",
    "from tqdm import tqdm\n",
    "from PIL import Image\n",
    "import time \n",
    "import torch.nn as nn\n",
    "import torchvision.transforms as transforms\n",
    "import torch.optim as optim\n",
    "from torch.utils.data import Dataset, DataLoader, random_split\n",
    "import torchvision.datasets as datasets\n",
    "from torchmetrics import Accuracy, Precision, Recall, F1Score"
   ]
  },
  {
   "cell_type": "code",
   "execution_count": 2,
   "id": "72516068",
   "metadata": {},
   "outputs": [],
   "source": [
    "class CustomDataset(Dataset):\n",
    "    def __init__(self, data_dir, transform=None):\n",
    "        self.data_dir = data_dir\n",
    "        self.transform = transform\n",
    "        self.classes = sorted(os.listdir(data_dir))\n",
    "\n",
    "        self.images = []\n",
    "        self.labels = []\n",
    "\n",
    "        for i, class_name in enumerate(self.classes):\n",
    "            class_dir = os.path.join(data_dir, class_name)\n",
    "            for image_name in os.listdir(class_dir):\n",
    "                image_path = os.path.join(class_dir, image_name)\n",
    "                self.images.append(image_path)\n",
    "                self.labels.append(i)\n",
    "\n",
    "    def __len__(self):\n",
    "        return len(self.images)\n",
    "\n",
    "    def __getitem__(self, idx):\n",
    "        img_path = self.images[idx]\n",
    "        image = Image.open(img_path).convert('RGB')\n",
    "        label = self.labels[idx]\n",
    "\n",
    "        if self.transform:\n",
    "            image = self.transform(image)\n",
    "\n",
    "        return image, label\n",
    "\n",
    "\n"
   ]
  },
  {
   "cell_type": "code",
   "execution_count": 3,
   "id": "1ef10bf2",
   "metadata": {},
   "outputs": [],
   "source": [
    "def create_data_loaders(dataset_path, train_size=0.8, batch_size=32, shuffle=True):\n",
    "    transform = transforms.Compose([\n",
    "        transforms.Resize((256, 256)),\n",
    "        transforms.ToTensor(),\n",
    "    ])\n",
    "\n",
    "    dataset = CustomDataset(dataset_path, transform=transform)\n",
    "\n",
    "    # Define sizes for train, validation, and test sets\n",
    "    train_size = int(train_size * len(dataset))\n",
    "    val_size = (len(dataset) - train_size) // 2\n",
    "    test_size = len(dataset) - train_size - val_size\n",
    "\n",
    "    # Split dataset into train, validation, and test sets\n",
    "    train_data, val_data, test_data = torch.utils.data.random_split(dataset, [train_size, val_size, test_size])\n",
    "\n",
    "    # Create DataLoader instances for training, validation, and testing\n",
    "    train_loader = DataLoader(train_data, batch_size=batch_size, shuffle=shuffle)\n",
    "    val_loader = DataLoader(val_data, batch_size=batch_size, shuffle=False)\n",
    "    test_loader = DataLoader(test_data, batch_size=batch_size, shuffle=False)\n",
    "\n",
    "    return train_loader, val_loader, test_loader\n"
   ]
  },
  {
   "cell_type": "code",
   "execution_count": 4,
   "id": "d418e679",
   "metadata": {},
   "outputs": [
    {
     "name": "stdout",
     "output_type": "stream",
     "text": [
      "Number of batches in train_loader: 1538\n",
      "Number of batches in val_loader: 193\n",
      "Number of batches in test_loader: 193\n"
     ]
    }
   ],
   "source": [
    "# Define the dataset path\n",
    "dataset_path = 'C:/Users/Babacar Gaye/Desktop/mes docs babs/mes etudes/ESSAI 2EM ANNE/PFA/Plant_leave_diseases_dataset_with_augmentation'\n",
    "\n",
    "# Define batch size for DataLoader\n",
    "batch_size = 32\n",
    "\n",
    "# Create DataLoader instances for training, validation, and testing\n",
    "train_loader, val_loader, test_loader = create_data_loaders(dataset_path, batch_size=batch_size)\n",
    "\n",
    "# Check the lengths of the loaders\n",
    "print(f\"Number of batches in train_loader: {len(train_loader)}\")\n",
    "print(f\"Number of batches in val_loader: {len(val_loader)}\")\n",
    "print(f\"Number of batches in test_loader: {len(test_loader)}\")\n"
   ]
  },
  {
   "cell_type": "code",
   "execution_count": 6,
   "id": "6cc63dd8",
   "metadata": {},
   "outputs": [
    {
     "name": "stdout",
     "output_type": "stream",
     "text": [
      "0.0 0.4460986852645874 1.0\n"
     ]
    }
   ],
   "source": [
    "\n",
    "for image, label in test_loader:\n",
    "    \n",
    "    min_val = torch.min(image)\n",
    "    mean_val = torch.mean(image)\n",
    "    max_val = torch.max(image)\n",
    "    \n",
    "    print(min_val.item(), mean_val.item(), max_val.item())\n",
    "    break\n"
   ]
  },
  {
   "cell_type": "code",
   "execution_count": 8,
   "id": "0972e31b",
   "metadata": {},
   "outputs": [],
   "source": [
    "\n",
    "class MultiClassCNN(nn.Module):\n",
    "    def __init__(self):\n",
    "        super(MultiClassCNN, self).__init__()\n",
    "        self.conv_block = nn.Sequential(\n",
    "            nn.Conv2d(3, 16, kernel_size=3, stride=1),\n",
    "            nn.ReLU(),\n",
    "            nn.MaxPool2d(kernel_size=2, stride=2),\n",
    "            nn.Conv2d(16, 32, kernel_size=3, stride=1),\n",
    "            nn.ReLU(),\n",
    "            nn.MaxPool2d(kernel_size=2, stride=2)\n",
    "        )\n",
    "        self.flatten = nn.Flatten()\n",
    "        self.fc_block = nn.Sequential(\n",
    "            nn.Linear(32 * 62 * 62, 128),  # Calculated based on the output size after convolutions\n",
    "            nn.ReLU(),\n",
    "            nn.Linear(128, 39)  # 39 classes\n",
    "        ) \n",
    "\n",
    "    def forward(self, x):\n",
    "        x = self.conv_block(x)\n",
    "        x = self.flatten(x)\n",
    "        x = self.fc_block(x)\n",
    "        return x \n"
   ]
  },
  {
   "cell_type": "code",
   "execution_count": 8,
   "id": "4523517d",
   "metadata": {},
   "outputs": [
    {
     "name": "stdout",
     "output_type": "stream",
     "text": [
      "Nombre total de paramètres dans le modèle : 15755271\n"
     ]
    }
   ],
   "source": [
    "model = MultiClassCNN()\n",
    "\n",
    "# Calcul du nombre total de paramètres\n",
    "total_params = sum(p.numel() for p in model.parameters())\n",
    "print(f\"Nombre total de paramètres dans le modèle : {total_params}\")"
   ]
  },
  {
   "cell_type": "code",
   "execution_count": 16,
   "id": "306367fb",
   "metadata": {},
   "outputs": [
    {
     "name": "stderr",
     "output_type": "stream",
     "text": [
      "Epoch 1: 100%|█████████████████████████████████████████████████████████████████████| 1538/1538 [39:10<00:00,  1.53s/it]\n"
     ]
    },
    {
     "name": "stdout",
     "output_type": "stream",
     "text": [
      "Epoch 1, Loss: 1.0433\n",
      "Accuracy: 0.6330, Precision: 0.6609, Recall: 0.6330, F1 Score: 0.6435\n"
     ]
    },
    {
     "name": "stderr",
     "output_type": "stream",
     "text": [
      "Validation: 100%|████████████████████████████████████████████████████████████████████| 193/193 [02:05<00:00,  1.54it/s]\n"
     ]
    },
    {
     "name": "stdout",
     "output_type": "stream",
     "text": [
      "Validation Loss: 0.6175, Validation Accuracy: 0.7738\n",
      "Time elapsed for epoch 1: 2476.16 seconds\n"
     ]
    },
    {
     "name": "stderr",
     "output_type": "stream",
     "text": [
      "Epoch 2: 100%|█████████████████████████████████████████████████████████████████████| 1538/1538 [45:41<00:00,  1.78s/it]\n"
     ]
    },
    {
     "name": "stdout",
     "output_type": "stream",
     "text": [
      "Epoch 2, Loss: 0.4332\n",
      "Accuracy: 0.7357, Precision: 0.7539, Recall: 0.7357, F1 Score: 0.7435\n"
     ]
    },
    {
     "name": "stderr",
     "output_type": "stream",
     "text": [
      "Validation: 100%|████████████████████████████████████████████████████████████████████| 193/193 [02:19<00:00,  1.38it/s]\n"
     ]
    },
    {
     "name": "stdout",
     "output_type": "stream",
     "text": [
      "Validation Loss: 0.4808, Validation Accuracy: 0.7990\n",
      "Time elapsed for epoch 2: 2881.10 seconds\n"
     ]
    },
    {
     "name": "stderr",
     "output_type": "stream",
     "text": [
      "Epoch 3: 100%|█████████████████████████████████████████████████████████████████████| 1538/1538 [44:30<00:00,  1.74s/it]\n"
     ]
    },
    {
     "name": "stdout",
     "output_type": "stream",
     "text": [
      "Epoch 3, Loss: 0.2423\n",
      "Accuracy: 0.7934, Precision: 0.8076, Recall: 0.7934, F1 Score: 0.7998\n"
     ]
    },
    {
     "name": "stderr",
     "output_type": "stream",
     "text": [
      "Validation: 100%|████████████████████████████████████████████████████████████████████| 193/193 [02:12<00:00,  1.46it/s]\n"
     ]
    },
    {
     "name": "stdout",
     "output_type": "stream",
     "text": [
      "Validation Loss: 0.5235, Validation Accuracy: 0.8040\n",
      "Time elapsed for epoch 3: 2802.74 seconds\n"
     ]
    },
    {
     "name": "stderr",
     "output_type": "stream",
     "text": [
      "Epoch 4: 100%|█████████████████████████████████████████████████████████████████████| 1538/1538 [45:27<00:00,  1.77s/it]\n"
     ]
    },
    {
     "name": "stdout",
     "output_type": "stream",
     "text": [
      "Epoch 4, Loss: 0.1501\n",
      "Accuracy: 0.8308, Precision: 0.8425, Recall: 0.8308, F1 Score: 0.8362\n"
     ]
    },
    {
     "name": "stderr",
     "output_type": "stream",
     "text": [
      "Validation: 100%|████████████████████████████████████████████████████████████████████| 193/193 [01:48<00:00,  1.77it/s]\n"
     ]
    },
    {
     "name": "stdout",
     "output_type": "stream",
     "text": [
      "Validation Loss: 0.5169, Validation Accuracy: 0.8118\n",
      "Time elapsed for epoch 4: 2836.82 seconds\n"
     ]
    },
    {
     "name": "stderr",
     "output_type": "stream",
     "text": [
      "Epoch 5: 100%|█████████████████████████████████████████████████████████████████████| 1538/1538 [40:09<00:00,  1.57s/it]\n"
     ]
    },
    {
     "name": "stdout",
     "output_type": "stream",
     "text": [
      "Epoch 5, Loss: 0.1013\n",
      "Accuracy: 0.8568, Precision: 0.8668, Recall: 0.8568, F1 Score: 0.8615\n"
     ]
    },
    {
     "name": "stderr",
     "output_type": "stream",
     "text": [
      "Validation: 100%|████████████████████████████████████████████████████████████████████| 193/193 [02:18<00:00,  1.39it/s]\n"
     ]
    },
    {
     "name": "stdout",
     "output_type": "stream",
     "text": [
      "Validation Loss: 0.7009, Validation Accuracy: 0.8125\n",
      "Time elapsed for epoch 5: 2548.82 seconds\n"
     ]
    },
    {
     "data": {
      "image/png": "[encoded data removed]",
      "text/plain": [
       "<Figure size 1000x500 with 1 Axes>"
      ]
     },
     "metadata": {},
     "output_type": "display_data"
    }
   ],
   "source": [
    "\n",
    "# Definition of loss function and optimizer\n",
    "criterion = nn.CrossEntropyLoss()\n",
    "optimizer = optim.Adam(model.parameters(), lr=0.001)\n",
    "# Initialization of metrics\n",
    "accuracy = Accuracy(task='multiclass', num_classes=39, average='macro')\n",
    "precision = Precision(task='multiclass', num_classes=39, average='macro')\n",
    "recall = Recall(task='multiclass', num_classes=39, average='macro')\n",
    "f1 = F1Score(task='multiclass',num_classes=39, average='macro')\n",
    "val_accuracy = Accuracy(task='multiclass', num_classes=39, average='macro')  # Initialize validation accuracy outside the loop\n",
    "epoch_losses= []\n",
    "val_losses=[]\n",
    "# Training loop\n",
    "for epoch in range(5):  # Number of epochs\n",
    "    start_time = time.time()  # Start time\n",
    "    \n",
    "    running_loss = 0.0\n",
    "    model.train()  # Set model to training mode\n",
    "    \n",
    "    for batch_idx, (images, labels) in enumerate(tqdm(train_loader, desc=f\"Epoch {epoch+1}\")):\n",
    "            # Reset gradients\n",
    "            optimizer.zero_grad()\n",
    "\n",
    "            # Forward pass\n",
    "            outputs = model(images)\n",
    "\n",
    "            # Calculate loss\n",
    "            loss = criterion(outputs, labels)\n",
    "\n",
    "            # Backward pass\n",
    "            loss.backward()\n",
    "\n",
    "            # Update model parameters\n",
    "            optimizer.step()\n",
    "\n",
    "            # Update running loss\n",
    "            running_loss += loss.item()\n",
    "\n",
    "            # Update metrics\n",
    "            accuracy.update(outputs, labels)\n",
    "            precision.update(outputs, labels)\n",
    "            recall.update(outputs, labels)\n",
    "            f1.update(outputs, labels)\n",
    "\n",
    "    \n",
    "    # Calculate metrics after each epoch\n",
    "    epoch_loss = running_loss / len(train_loader)\n",
    "    epoch_losses.append(epoch_loss)  # Store epoch loss\n",
    "    acc = accuracy.compute()\n",
    "    prec = precision.compute()\n",
    "    rec = recall.compute()\n",
    "    f1_score = f1.compute()\n",
    "    \n",
    "    print(f\"Epoch {epoch+1}, Loss: {epoch_loss:.4f}\")\n",
    "    print(f\"Accuracy: {acc:.4f}, Precision: {prec:.4f}, Recall: {rec:.4f}, F1 Score: {f1_score:.4f}\")\n",
    "    \n",
    "    # Validation loop\n",
    "    val_loss = 0.0\n",
    "    model.eval()  # Set model to evaluation mode\n",
    "    \n",
    "    for val_images, val_labels in tqdm(val_loader, desc=\"Validation\"):\n",
    "        with torch.no_grad():\n",
    "            val_outputs = model(val_images)\n",
    "            val_loss += criterion(val_outputs, val_labels).item()\n",
    "            val_accuracy.update(val_outputs, val_labels)\n",
    "    val_acc = val_accuracy.compute()\n",
    "    val_loss /= len(val_loader)\n",
    "    val_losses.append(val_loss)  # Store validation loss\n",
    "    print(f\"Validation Loss: {val_loss:.4f}, Validation Accuracy: {val_acc:.4f}\")\n",
    "    \n",
    "    # Elapsed time\n",
    "    end_time = time.time()\n",
    "    epoch_time = end_time - start_time\n",
    "    print(f\"Time elapsed for epoch {epoch+1}: {epoch_time:.2f} seconds\")\n",
    "\n",
    "# Plotting\n",
    "plt.figure(figsize=(10, 5))\n",
    "plt.plot(range(1, len(epoch_losses) + 1), epoch_losses, label='Train Loss', marker='o')\n",
    "plt.plot(range(1, len(val_losses) + 1), val_losses, label='Validation Loss', marker='o')\n",
    "plt.xlabel('Epoch')\n",
    "plt.ylabel('Loss')\n",
    "plt.title('Training and Validation Losses')\n",
    "plt.legend()\n",
    "plt.grid(True)\n",
    "plt.show()\n",
    "\n"
   ]
  },
  {
   "cell_type": "code",
   "execution_count": 17,
   "id": "e9452129",
   "metadata": {},
   "outputs": [
    {
     "name": "stdout",
     "output_type": "stream",
     "text": [
      "Accuracy: tensor(0.8154)\n",
      "Per-class Precision: tensor([0.6952, 0.7143, 0.9481, 0.6121, 0.8000, 0.8448, 0.9010, 0.9655, 0.7818,\n",
      "        1.0000, 0.8101, 0.9500, 0.8969, 0.7245, 0.9706, 0.9062, 0.9906, 0.9091,\n",
      "        0.7030, 0.8750, 0.8803, 0.6875, 0.7923, 0.8539, 0.9136, 0.8554, 0.9641,\n",
      "        0.7805, 0.8586, 0.9639, 0.6216, 0.7674, 0.4880, 0.7434, 0.8095, 0.8017,\n",
      "        0.9476, 0.9859, 0.9861])\n",
      "Per-class Recall: tensor([0.8022, 0.8523, 0.8295, 0.8765, 0.9600, 0.9545, 0.8053, 0.5045, 0.7963,\n",
      "        0.9677, 0.7273, 0.9913, 0.6960, 0.9793, 0.8839, 0.7838, 0.9777, 0.7727,\n",
      "        0.9103, 0.4468, 0.7716, 0.9429, 0.8583, 0.7917, 0.7789, 0.9748, 0.9758,\n",
      "        0.8421, 0.8252, 0.8578, 0.4423, 0.6633, 0.7864, 0.6011, 0.8718, 0.6879,\n",
      "        0.9693, 0.6931, 0.9467])\n"
     ]
    }
   ],
   "source": [
    "\n",
    "# Initialize metrics\n",
    "accuracy = Accuracy(task='multiclass',num_classes=39, average='macro')\n",
    "precision = Precision(task='multiclass',num_classes=39, average=None)\n",
    "recall = Recall(task='multiclass',num_classes=39, average=None)\n",
    "\n",
    "# Put the model in evaluation mode\n",
    "model.eval()\n",
    "\n",
    "# Iterate over the test data\n",
    "for images, labels in test_loader:\n",
    "    # Forward pass to get the predicted labels\n",
    "    with torch.no_grad():\n",
    "        outputs = model(images)\n",
    "    predicted = torch.argmax(outputs, dim=1)\n",
    "    \n",
    "    # Update metrics\n",
    "    accuracy.update(predicted, labels)\n",
    "    precision.update(predicted, labels)\n",
    "    recall.update(predicted, labels)\n",
    "\n",
    "# Compute final values\n",
    "accuracy = accuracy.compute()\n",
    "precision = precision.compute()\n",
    "recall = recall.compute()\n",
    "\n",
    "# Print accuracy, precision, and recall\n",
    "print(\"Accuracy:\", accuracy)\n",
    "print(\"Per-class Precision:\", precision)\n",
    "print(\"Per-class Recall:\", recall)\n"
   ]
  },
  {
   "cell_type": "code",
   "execution_count": 32,
   "id": "d96a6533",
   "metadata": {},
   "outputs": [
    {
     "name": "stdout",
     "output_type": "stream",
     "text": [
      "Metrics:\n",
      "                     Value\n",
      "accuracy   tensor(81.5362)\n",
      "precision  tensor(83.8465)\n",
      "recall     tensor(81.5362)\n",
      "F1Score    tensor(81.7035)\n",
      "\n",
      "Confusion Matrix (Percentage):\n",
      "            0          1          2          3          4          5  \\\n",
      "0   80.219780   0.000000   0.000000   7.692308   2.197802   0.000000   \n",
      "1    0.000000  85.227273   0.000000   1.136364   0.000000   2.272727   \n",
      "2    0.000000   0.000000  82.954545   4.545455   0.000000   0.000000   \n",
      "3    3.086420   0.617284   0.000000  87.654321   0.617284   0.000000   \n",
      "4    0.000000   0.000000   0.000000   0.800000  96.000000   0.000000   \n",
      "5    0.000000   0.649351   0.000000   1.948052   0.000000  95.454545   \n",
      "6    0.884956   0.884956   0.884956  10.619469   0.000000   0.000000   \n",
      "7    0.000000   8.108108   0.000000   0.900901   0.000000   2.702703   \n",
      "8    0.925926   0.000000   0.000000   0.000000   1.851852   0.000000   \n",
      "9    0.000000   0.000000   0.000000   0.000000   3.225806   0.000000   \n",
      "10   0.000000   0.000000   0.000000   0.000000   4.545455   0.000000   \n",
      "11   0.869565   0.000000   0.000000   0.000000   0.000000   0.000000   \n",
      "12   0.000000   0.000000   0.000000   0.800000   0.000000   0.000000   \n",
      "13   0.000000   0.000000   0.000000   0.000000   0.000000   0.000000   \n",
      "14   0.000000   0.000000   0.000000   0.000000   0.000000   0.000000   \n",
      "15   0.900901   0.000000   0.000000   0.000000   0.000000   0.000000   \n",
      "16   0.185529   0.000000   0.185529   0.185529   0.000000   0.000000   \n",
      "17   2.272727   0.000000   0.000000   3.181818   0.000000   0.909091   \n",
      "18   1.282051   0.000000   0.000000   5.128205   1.282051   0.000000   \n",
      "19   1.063830   5.319149   0.000000   9.574468   0.000000   1.063830   \n",
      "20   0.000000   1.234568   0.000000   1.234568   0.000000   1.851852   \n",
      "21   0.000000   0.000000   0.000000   0.000000   0.000000   0.000000   \n",
      "22   0.833333   0.000000   0.000000   0.833333   0.000000   0.000000   \n",
      "23   1.041667   0.000000   0.000000   0.000000   0.000000   0.000000   \n",
      "24   0.000000   0.000000   0.000000   0.000000   0.000000   0.000000   \n",
      "25   0.000000   0.193798   0.000000   0.000000   0.193798   0.775194   \n",
      "26   1.212121   0.000000   0.000000   0.000000   0.000000   0.000000   \n",
      "27   0.000000   0.000000   0.000000   0.000000   7.017544   0.000000   \n",
      "28   4.854369   1.941748   0.000000   1.941748   0.000000   1.941748   \n",
      "29   0.000000   0.000000   0.458716   0.917431   0.000000   0.000000   \n",
      "30   0.961538   0.000000   0.000000   5.769231   0.000000   0.000000   \n",
      "31   1.005025   1.005025   0.000000   2.010050   3.015075   0.000000   \n",
      "32   1.941748   0.970874   0.000000   0.970874   0.970874   0.970874   \n",
      "33   0.000000   2.127660   0.531915   1.595745   0.000000   2.659574   \n",
      "34   0.000000   0.000000   0.000000   0.641026   0.000000   0.000000   \n",
      "35   0.000000   0.709220   0.000000   7.092199   0.000000   1.418440   \n",
      "36   0.000000   0.000000   0.000000   0.383142   0.000000   0.000000   \n",
      "37   0.990099   0.000000   0.000000   2.970297   0.000000   1.980198   \n",
      "38   0.000000   0.000000   0.000000   1.333333   0.000000   0.000000   \n",
      "\n",
      "            6          7          8          9  ...         29         30  \\\n",
      "0    0.000000   0.000000   0.000000   0.000000  ...   0.000000   0.000000   \n",
      "1    0.000000   1.136364   0.000000   0.000000  ...   0.000000   1.136364   \n",
      "2    6.818182   0.000000   0.000000   0.000000  ...   0.000000   0.000000   \n",
      "3    0.000000   0.000000   0.000000   0.000000  ...   0.000000   0.000000   \n",
      "4    0.800000   0.000000   0.000000   0.000000  ...   0.000000   0.000000   \n",
      "5    0.000000   0.000000   0.000000   0.000000  ...   0.000000   0.000000   \n",
      "6   80.530973   0.000000   0.000000   0.000000  ...   0.000000   0.000000   \n",
      "7    0.000000  50.450450   0.000000   0.000000  ...   0.000000   0.000000   \n",
      "8    0.000000   0.000000  79.629630   0.000000  ...   0.000000   0.000000   \n",
      "9    0.000000   0.000000   0.000000  96.774194  ...   0.000000   0.000000   \n",
      "10   0.000000   0.000000  20.454545   0.000000  ...   0.000000   0.000000   \n",
      "11   0.000000   0.000000   0.000000   0.000000  ...   0.000000   0.000000   \n",
      "12   0.000000   0.000000   0.000000   0.000000  ...   0.000000   0.000000   \n",
      "13   0.000000   0.000000   0.000000   0.000000  ...   0.000000   0.689655   \n",
      "14   0.000000   0.000000   0.000000   0.000000  ...   0.000000   0.000000   \n",
      "15   0.000000   0.000000   0.000000   0.000000  ...   0.000000   0.000000   \n",
      "16   0.185529   0.000000   0.000000   0.000000  ...   0.000000   0.000000   \n",
      "17   0.000000   0.000000   1.818182   0.000000  ...   0.000000   0.909091   \n",
      "18   0.000000   0.000000   0.000000   0.000000  ...   0.000000   0.000000   \n",
      "19   1.063830   0.000000   0.000000   0.000000  ...   0.000000   1.063830   \n",
      "20   0.000000   0.000000   0.000000   0.000000  ...   0.000000   0.000000   \n",
      "21   0.000000   0.000000   0.000000   0.000000  ...   0.000000   0.000000   \n",
      "22   0.000000   0.000000   0.000000   0.000000  ...   0.000000   0.000000   \n",
      "23   0.000000   0.000000   0.000000   0.000000  ...   0.000000   1.041667   \n",
      "24   0.000000   1.052632   0.000000   0.000000  ...   0.000000   0.000000   \n",
      "25   0.000000   0.000000   0.000000   0.000000  ...   0.000000   0.000000   \n",
      "26   0.000000   0.000000   0.000000   0.000000  ...   0.000000   0.000000   \n",
      "27   0.000000   0.000000   0.000000   0.000000  ...   0.000000   0.000000   \n",
      "28   0.000000   0.000000   0.000000   0.000000  ...   0.000000   0.000000   \n",
      "29   0.000000   0.000000   0.458716   0.000000  ...  85.779817   0.458716   \n",
      "30   0.000000   0.000000   0.000000   0.000000  ...   1.923077  44.230769   \n",
      "31   0.000000   0.000000   0.502513   0.000000  ...   0.502513   3.517588   \n",
      "32   0.000000   0.000000   0.000000   0.000000  ...   0.000000   0.970874   \n",
      "33   0.000000   0.000000   0.000000   0.000000  ...   0.000000   3.723404   \n",
      "34   0.000000   0.000000   0.000000   0.000000  ...   0.000000   0.000000   \n",
      "35   0.000000   0.000000   0.000000   0.000000  ...   0.709220   4.255319   \n",
      "36   0.191571   0.000000   0.000000   0.000000  ...   0.574713   0.000000   \n",
      "37   0.000000   0.000000   0.000000   0.000000  ...   0.000000   0.000000   \n",
      "38   0.000000   0.000000   0.000000   0.000000  ...   0.000000   0.000000   \n",
      "\n",
      "           31         32         33         34         35         36  \\\n",
      "0    0.000000   2.197802   2.197802   0.000000   0.000000   0.000000   \n",
      "1    0.000000   0.000000   1.136364   0.000000   0.000000   0.000000   \n",
      "2    0.000000   0.000000   2.272727   0.000000   0.000000   1.136364   \n",
      "3    0.617284   3.703704   0.000000   0.000000   0.000000   0.000000   \n",
      "4    0.000000   0.800000   0.000000   0.000000   0.000000   0.000000   \n",
      "5    0.649351   0.649351   0.000000   0.000000   0.000000   0.000000   \n",
      "6    0.884956   0.000000   0.000000   0.000000   0.000000   0.000000   \n",
      "7    0.000000   0.000000   0.900901   0.000000   0.000000   0.000000   \n",
      "8    0.000000   0.000000   0.000000   0.000000   0.000000   0.000000   \n",
      "9    0.000000   0.000000   0.000000   0.000000   0.000000   0.000000   \n",
      "10   0.000000   0.000000   0.000000   0.000000   0.000000   0.000000   \n",
      "11   0.000000   0.000000   0.000000   0.000000   0.000000   0.000000   \n",
      "12   0.000000   0.000000   0.000000   0.000000   0.000000   0.800000   \n",
      "13   0.000000   0.000000   0.000000   0.000000   0.000000   0.000000   \n",
      "14   0.000000   0.000000   0.000000   0.000000   0.000000   0.000000   \n",
      "15   0.000000   0.000000   0.000000   0.000000   0.000000   0.000000   \n",
      "16   0.000000   0.000000   0.185529   0.000000   0.000000   0.927644   \n",
      "17   1.363636   7.272727   0.454545   0.000000   0.000000   0.454545   \n",
      "18   0.000000   0.000000   0.000000   0.000000   0.000000   0.000000   \n",
      "19   3.191489   0.000000   6.382979   1.063830   2.127660   2.127660   \n",
      "20   0.617284   0.000000   1.234568   0.000000   0.000000   0.617284   \n",
      "21   0.952381   0.952381   0.000000   0.000000   0.000000   0.000000   \n",
      "22   0.000000   0.833333   0.833333   0.000000   0.000000   0.000000   \n",
      "23   1.041667   0.000000   0.000000   0.000000   0.000000   0.000000   \n",
      "24   1.052632   0.000000   1.052632   1.052632   0.000000   0.000000   \n",
      "25   0.000000   0.193798   0.193798   0.000000   0.193798   0.193798   \n",
      "26   0.000000   0.000000   0.000000   0.000000   0.000000   0.000000   \n",
      "27   0.000000   0.000000   0.877193   0.000000   0.000000   0.000000   \n",
      "28   0.000000   0.000000   0.000000   0.000000   0.000000   0.000000   \n",
      "29   0.917431   1.376147   0.458716   0.458716   0.000000   0.917431   \n",
      "30  11.538462   2.884615   1.923077   2.884615   5.769231   4.807692   \n",
      "31  66.331658   7.537688   2.512563   1.005025   0.502513   0.502513   \n",
      "32   2.912621  78.640777   1.941748   3.883495   1.941748   0.000000   \n",
      "33   1.595745  10.106383  60.106383   1.063830   1.063830   0.000000   \n",
      "34   0.000000   0.641026   0.000000  87.179487   5.128205   5.128205   \n",
      "35   2.127660   0.000000   0.000000   8.510638  68.794326   0.000000   \n",
      "36   0.191571   0.000000   0.574713   0.766284   0.000000  96.934866   \n",
      "37   0.000000  12.871287   5.940594   1.980198   0.990099   0.000000   \n",
      "38   2.000000   1.333333   0.000000   0.000000   0.666667   0.000000   \n",
      "\n",
      "           37         38  \n",
      "0    0.000000   0.000000  \n",
      "1    0.000000   0.000000  \n",
      "2    0.000000   0.000000  \n",
      "3    0.000000   0.000000  \n",
      "4    0.000000   0.000000  \n",
      "5    0.000000   0.000000  \n",
      "6    0.000000   0.000000  \n",
      "7    0.000000   0.000000  \n",
      "8    0.000000   0.000000  \n",
      "9    0.000000   0.000000  \n",
      "10   0.000000   0.000000  \n",
      "11   0.000000   0.000000  \n",
      "12   0.000000   0.000000  \n",
      "13   0.000000   0.000000  \n",
      "14   0.000000   0.000000  \n",
      "15   0.000000   0.000000  \n",
      "16   0.000000   0.000000  \n",
      "17   0.000000   0.000000  \n",
      "18   0.000000   0.000000  \n",
      "19   0.000000   0.000000  \n",
      "20   0.617284   0.000000  \n",
      "21   0.000000   0.000000  \n",
      "22   0.000000   0.000000  \n",
      "23   0.000000   0.000000  \n",
      "24   0.000000   0.000000  \n",
      "25   0.000000   0.000000  \n",
      "26   0.000000   0.000000  \n",
      "27   0.000000   0.000000  \n",
      "28   0.000000   0.000000  \n",
      "29   0.000000   0.000000  \n",
      "30   0.000000   0.961538  \n",
      "31   0.000000   0.000000  \n",
      "32   0.000000   0.000000  \n",
      "33   0.000000   0.000000  \n",
      "34   0.000000   0.000000  \n",
      "35   0.000000   0.709220  \n",
      "36   0.000000   0.000000  \n",
      "37  69.306931   0.000000  \n",
      "38   0.000000  94.666667  \n",
      "\n",
      "[39 rows x 39 columns]\n"
     ]
    }
   ],
   "source": [
    "from sklearn.metrics import confusion_matrix\n",
    "import numpy as np\n",
    "import pandas as pd\n",
    "\n",
    "# Initialize metrics\n",
    "metrics = {\n",
    "    'accuracy': Accuracy(task='multiclass', num_classes=39, average='macro'),\n",
    "    'precision': Precision(task='multiclass', num_classes=39, average='macro'),\n",
    "    'recall': Recall(task='multiclass', num_classes=39, average='macro'),\n",
    "    'F1Score': F1Score(task='multiclass',num_classes=39, average='macro')\n",
    "}\n",
    "\n",
    "# Lists to store predicted and true labels\n",
    "all_predicted = []\n",
    "all_labels = []\n",
    "\n",
    "# Put the model in evaluation mode\n",
    "model.eval()\n",
    "\n",
    "# Iterate over the test data\n",
    "for images, labels in test_loader:\n",
    "    # Forward pass to get the predicted labels\n",
    "    with torch.no_grad():\n",
    "        outputs = model(images) \n",
    "    predicted = torch.argmax(outputs, dim=1)\n",
    "    \n",
    "    # Update metrics\n",
    "    for metric in metrics.values():\n",
    "        metric.update(predicted, labels)\n",
    "    \n",
    "    # Store predicted and true labels\n",
    "    all_predicted.extend(predicted.cpu().numpy())\n",
    "    all_labels.extend(labels.cpu().numpy())\n",
    "\n",
    "# Compute final values\n",
    "results = {name: metric.compute()*100 for name, metric in metrics.items()}\n",
    "\n",
    "# Compute confusion matrix\n",
    "conf_matrix = confusion_matrix(all_labels, all_predicted)\n",
    "\n",
    "# Print accuracy, precision, recall, and F1 score\n",
    "metric_table = pd.DataFrame.from_dict(results, orient='index', columns=['Value'])\n",
    "print(\"Metrics:\")\n",
    "print(metric_table)\n",
    "\n",
    "# Print confusion matrix with percentages and class names\n",
    "class_names = [str(i) for i in range(39)]  # Assuming class names are numerical\n",
    "conf_matrix_percentage = conf_matrix.astype('float') / conf_matrix.sum(axis=1)[:, np.newaxis] * 100\n",
    "confusion_matrix_table = pd.DataFrame(conf_matrix_percentage, columns=class_names, index=class_names)\n",
    "print(\"\\nConfusion Matrix (Percentage):\")\n",
    "print(confusion_matrix_table)\n"
   ]
  },
  {
   "cell_type": "code",
   "execution_count": 21,
   "id": "9ae2c110",
   "metadata": {},
   "outputs": [],
   "source": []
  },
  {
   "cell_type": "code",
   "execution_count": 97,
   "id": "389c12ca",
   "metadata": {},
   "outputs": [],
   "source": [
    "# Save model along with additional information\n",
    "save_dir = 'saved_models'\n",
    "os.makedirs(save_dir, exist_ok=True)\n",
    "\n",
    "torch.save({\n",
    "    'model_state_dict': model.state_dict(),\n",
    "    'accuracy': results['accuracy'],\n",
    "    'precision': results['precision'],\n",
    "    'recall': results['recall'],\n",
    "    'F1Score': results['F1Score'],\n",
    "    'confusion_matrix': conf_matrix\n",
    "}, os.path.join(save_dir, 'model_results.pth'))"
   ]
  },
  {
   "cell_type": "code",
   "execution_count": 12,
   "id": "49bd245a",
   "metadata": {
    "scrolled": true
   },
   "outputs": [
    {
     "name": "stdout",
     "output_type": "stream",
     "text": [
      "Accuracy: tensor(81.5362)\n",
      " Precision: tensor(83.8465)\n",
      " Recall: tensor(81.5362)\n",
      " F1Score: tensor(81.7035)\n"
     ]
    }
   ],
   "source": [
    "model1 = MultiClassCNN()\n",
    "# Load the saved model\n",
    "saved_model_path =  'C:/Users/Babacar Gaye/saved_models/model_results.pth'\n",
    "checkpoint = torch.load(saved_model_path)\n",
    "\n",
    "# Load model state dict\n",
    "model1.load_state_dict(checkpoint['model_state_dict'])\n",
    "\n",
    "# Print additional information\n",
    "print(\"Accuracy:\", checkpoint['accuracy'])\n",
    "print(\" Precision:\", checkpoint['precision'])\n",
    "print(\" Recall:\", checkpoint['recall'])\n",
    "print(\" F1Score:\", checkpoint['F1Score'])"
   ]
  },
  {
   "cell_type": "code",
   "execution_count": 13,
   "id": "465ae41a",
   "metadata": {},
   "outputs": [],
   "source": [
    "dict_names_class={1: 'Apple___Apple_scab', 2: 'Apple___Black_rot', 3: 'Apple___Cedar_apple_rust', 4: 'Apple___healthy', 5: 'Background_without_leaves', 6: 'Blueberry___healthy', 7: 'Cherry___healthy', 8: 'Cherry___Powdery_mildew', 9: 'Corn___Cercospora_leaf_spot Gray_leaf_spot', 10: 'Corn___Common_rust', 11: 'Corn___healthy', 12: 'Corn___Northern_Leaf_Blight', 13: 'Grape___Black_rot', 14: 'Grape___Esca_(Black_Measles)', 15: 'Grape___healthy', 16: 'Grape___Leaf_blight_(Isariopsis_Leaf_Spot)', 17: 'Orange___Haunglongbing_(Citrus_greening)', \n",
    "18: 'Peach___Bacterial_spot', 19: 'Peach___healthy', 20: 'Pepper,_bell___Bacterial_spot', 21: 'Pepper,_bell___healthy', 22: 'Potato___Early_blight', 23: 'Potato___healthy', 24: 'Potato___Late_blight', 25: 'Raspberry___healthy', 26: 'Soybean___healthy', 27: 'Squash___Powdery_mildew', 28: 'Strawberry___healthy', 29: 'Strawberry___Leaf_scorch', 30: 'Tomato___Bacterial_spot', 31: 'Tomato___Early_blight', 32: 'Tomato___healthy', 33: 'Tomato___Late_blight', 34: 'Tomato___Leaf_Mold', 35: 'Tomato___Septoria_leaf_spot', 36: 'Tomato___Spider_mites Two-spotted_spider_mite', 37: 'Tomato___Target_Spot', 38: 'Tomato___Tomato_mosaic_virus', 39: 'Tomato___Tomato_Yellow_Leaf_Curl_Virus'}"
   ]
  },
  {
   "cell_type": "code",
   "execution_count": 14,
   "id": "c3edceb3",
   "metadata": {},
   "outputs": [],
   "source": [
    "path=\"C:/Users/Babacar Gaye/Desktop/mes docs babs/mes etudes/ESSAI 2EM ANNE/PFA/Test/Test_image\"\n"
   ]
  },
  {
   "cell_type": "code",
   "execution_count": 16,
   "id": "e0a1c40d",
   "metadata": {},
   "outputs": [
    {
     "name": "stdout",
     "output_type": "stream",
     "text": [
      "Image: corn_helthy.jpg, Predicted Class: Corn___healthy, Confidence: 100.00%\n",
      "Image: Corn___Common_rust.JPG, Predicted Class: Corn___Cercospora_leaf_spot Gray_leaf_spot, Confidence: 100.00%\n",
      "Image: Corn___Northern_Leaf_Blight.JPG, Predicted Class: Corn___Common_rust, Confidence: 91.61%\n",
      "Image: tomato_blight.JPG, Predicted Class: Tomato___Bacterial_spot, Confidence: 98.44%\n",
      "Image: Tomato___Tomato_Yellow_Leaf_Curl_Virus.JPG, Predicted Class: Tomato___Spider_mites Two-spotted_spider_mite, Confidence: 99.48%\n"
     ]
    }
   ],
   "source": [
    "import torch.nn.functional as F\n",
    "dict_names_class={1: 'Apple___Apple_scab', 2: 'Apple___Black_rot', 3: 'Apple___Cedar_apple_rust', 4: 'Apple___healthy', 5: 'Background_without_leaves', 6: 'Blueberry___healthy', 7: 'Cherry___healthy', 8: 'Cherry___Powdery_mildew', 9: 'Corn___Cercospora_leaf_spot Gray_leaf_spot', 10: 'Corn___Common_rust', 11: 'Corn___healthy', 12: 'Corn___Northern_Leaf_Blight', 13: 'Grape___Black_rot', 14: 'Grape___Esca_(Black_Measles)', 15: 'Grape___healthy', 16: 'Grape___Leaf_blight_(Isariopsis_Leaf_Spot)', 17: 'Orange___Haunglongbing_(Citrus_greening)', \n",
    "18: 'Peach___Bacterial_spot', 19: 'Peach___healthy', 20: 'Pepper,_bell___Bacterial_spot', 21: 'Pepper,_bell___healthy', 22: 'Potato___Early_blight', 23: 'Potato___healthy', 24: 'Potato___Late_blight', 25: 'Raspberry___healthy', 26: 'Soybean___healthy', 27: 'Squash___Powdery_mildew', 28: 'Strawberry___healthy', 29: 'Strawberry___Leaf_scorch', 30: 'Tomato___Bacterial_spot', 31: 'Tomato___Early_blight', 32: 'Tomato___healthy', 33: 'Tomato___Late_blight', 34: 'Tomato___Leaf_Mold', 35: 'Tomato___Septoria_leaf_spot', 36: 'Tomato___Spider_mites Two-spotted_spider_mite', 37: 'Tomato___Target_Spot', 38: 'Tomato___Tomato_mosaic_virus', 39: 'Tomato___Tomato_Yellow_Leaf_Curl_Virus'}\n",
    "# Define the path to your test images directory\n",
    "path = \"C:/Users/Babacar Gaye/Desktop/mes docs babs/mes etudes/ESSAI 2EM ANNE/PFA/Test/Test_image\"\n",
    "\n",
    "# Define the transformation to apply to each image\n",
    "transform = transforms.Compose([\n",
    "    transforms.Resize((256, 256)),\n",
    "    transforms.ToTensor(),  \n",
    "])\n",
    "\n",
    "# Function to load and preprocess an image\n",
    "def load_and_preprocess_image(image_path, transform):\n",
    "    image = Image.open(image_path)\n",
    "    image = transform(image).unsqueeze(0)  # Add batch dimension\n",
    "    return image\n",
    "\n",
    "# List all files in the directory\n",
    "image_files = os.listdir(path)\n",
    "\n",
    "#Iterate over each image file\n",
    "for image_file in image_files:\n",
    "    image_path = os.path.join(path, image_file)\n",
    "    \n",
    "    # Load and preprocess the image\n",
    "    image = load_and_preprocess_image(image_path, transform)\n",
    "    \n",
    "    # Pass the image through the model\n",
    "    outputs = model1(image) \n",
    "    probabilities = F.softmax(outputs, dim=1)  # Apply softmax to get probabilities\n",
    "    predicted = torch.argmax(outputs, dim=1)\n",
    "    \n",
    "    # Get the probability associated with the predicted class\n",
    "    confidence = probabilities[0][predicted.item()].item() * 100\n",
    "    \n",
    "    # Get the predicted class name from the dictionary\n",
    "    predicted_class_name = dict_names_class[predicted.item()]\n",
    "    \n",
    "    # Print the predicted class name and confidence\n",
    "    print(f\"Image: {image_file}, Predicted Class: {predicted_class_name}, Confidence: {confidence:.2f}%\")"
   ]
  },
  {
   "cell_type": "code",
   "execution_count": 18,
   "id": "1665e616",
   "metadata": {},
   "outputs": [
    {
     "name": "stdout",
     "output_type": "stream",
     "text": [
      "Accuracy: tensor(81.5362)\n",
      " Precision: tensor(83.8465)\n",
      " Recall: tensor(81.5362)\n",
      " F1Score: tensor(81.7035)\n",
      "Image: corn_helthy.jpg, Predicted Class: Corn___healthy, Confidence: 100.00%\n",
      "Image: Corn___Common_rust.JPG, Predicted Class: Corn___Cercospora_leaf_spot Gray_leaf_spot, Confidence: 100.00%\n",
      "Image: Corn___Northern_Leaf_Blight.JPG, Predicted Class: Corn___Common_rust, Confidence: 91.61%\n",
      "Image: tomato_blight.JPG, Predicted Class: Tomato___Bacterial_spot, Confidence: 98.44%\n",
      "Image: Tomato___Tomato_Yellow_Leaf_Curl_Virus.JPG, Predicted Class: Tomato___Spider_mites Two-spotted_spider_mite, Confidence: 99.48%\n"
     ]
    }
   ],
   "source": [
    "import numpy as np\n",
    "import matplotlib.pyplot as plt\n",
    "import torch\n",
    "import os\n",
    "from tqdm import tqdm\n",
    "from PIL import Image\n",
    "import time \n",
    "import torch.nn as nn\n",
    "import torchvision.transforms as transforms\n",
    "import torch.optim as optim\n",
    "from torch.utils.data import Dataset, DataLoader, random_split\n",
    "import torchvision.datasets as datasets\n",
    "from torchmetrics import Accuracy, Precision, Recall, F1Score\n",
    "\n",
    "\n",
    "model1 = MultiClassCNN()\n",
    "# Load the saved model\n",
    "saved_model_path =  'C:/Users/Babacar Gaye/saved_models/model_results.pth'\n",
    "checkpoint = torch.load(saved_model_path)\n",
    "\n",
    "# Load model state dict\n",
    "model1.load_state_dict(checkpoint['model_state_dict'])\n",
    "\n",
    "# Print additional information\n",
    "print(\"Accuracy:\", checkpoint['accuracy'])\n",
    "print(\" Precision:\", checkpoint['precision'])\n",
    "print(\" Recall:\", checkpoint['recall'])\n",
    "print(\" F1Score:\", checkpoint['F1Score'])\n",
    "\n",
    "ict_names_class={1: 'Apple___Apple_scab', 2: 'Apple___Black_rot', 3: 'Apple___Cedar_apple_rust', 4: 'Apple___healthy', 5: 'Background_without_leaves', 6: 'Blueberry___healthy', 7: 'Cherry___healthy', 8: 'Cherry___Powdery_mildew', 9: 'Corn___Cercospora_leaf_spot Gray_leaf_spot', 10: 'Corn___Common_rust', 11: 'Corn___healthy', 12: 'Corn___Northern_Leaf_Blight', 13: 'Grape___Black_rot', 14: 'Grape___Esca_(Black_Measles)', 15: 'Grape___healthy', 16: 'Grape___Leaf_blight_(Isariopsis_Leaf_Spot)', 17: 'Orange___Haunglongbing_(Citrus_greening)', \n",
    "18: 'Peach___Bacterial_spot', 19: 'Peach___healthy', 20: 'Pepper,_bell___Bacterial_spot', 21: 'Pepper,_bell___healthy', 22: 'Potato___Early_blight', 23: 'Potato___healthy', 24: 'Potato___Late_blight', 25: 'Raspberry___healthy', 26: 'Soybean___healthy', 27: 'Squash___Powdery_mildew', 28: 'Strawberry___healthy', 29: 'Strawberry___Leaf_scorch', 30: 'Tomato___Bacterial_spot', 31: 'Tomato___Early_blight', 32: 'Tomato___healthy', 33: 'Tomato___Late_blight', 34: 'Tomato___Leaf_Mold', 35: 'Tomato___Septoria_leaf_spot', 36: 'Tomato___Spider_mites Two-spotted_spider_mite', 37: 'Tomato___Target_Spot', 38: 'Tomato___Tomato_mosaic_virus', 39: 'Tomato___Tomato_Yellow_Leaf_Curl_Virus'}\n",
    "path=\"C:/Users/Babacar Gaye/Desktop/mes docs babs/mes etudes/ESSAI 2EM ANNE/PFA/Test/Test_image\"\n",
    "\n",
    "\n",
    "import torch.nn.functional as F\n",
    "dict_names_class={1: 'Apple___Apple_scab', 2: 'Apple___Black_rot', 3: 'Apple___Cedar_apple_rust', 4: 'Apple___healthy', 5: 'Background_without_leaves', 6: 'Blueberry___healthy', 7: 'Cherry___healthy', 8: 'Cherry___Powdery_mildew', 9: 'Corn___Cercospora_leaf_spot Gray_leaf_spot', 10: 'Corn___Common_rust', 11: 'Corn___healthy', 12: 'Corn___Northern_Leaf_Blight', 13: 'Grape___Black_rot', 14: 'Grape___Esca_(Black_Measles)', 15: 'Grape___healthy', 16: 'Grape___Leaf_blight_(Isariopsis_Leaf_Spot)', 17: 'Orange___Haunglongbing_(Citrus_greening)', \n",
    "18: 'Peach___Bacterial_spot', 19: 'Peach___healthy', 20: 'Pepper,_bell___Bacterial_spot', 21: 'Pepper,_bell___healthy', 22: 'Potato___Early_blight', 23: 'Potato___healthy', 24: 'Potato___Late_blight', 25: 'Raspberry___healthy', 26: 'Soybean___healthy', 27: 'Squash___Powdery_mildew', 28: 'Strawberry___healthy', 29: 'Strawberry___Leaf_scorch', 30: 'Tomato___Bacterial_spot', 31: 'Tomato___Early_blight', 32: 'Tomato___healthy', 33: 'Tomato___Late_blight', 34: 'Tomato___Leaf_Mold', 35: 'Tomato___Septoria_leaf_spot', 36: 'Tomato___Spider_mites Two-spotted_spider_mite', 37: 'Tomato___Target_Spot', 38: 'Tomato___Tomato_mosaic_virus', 39: 'Tomato___Tomato_Yellow_Leaf_Curl_Virus'}\n",
    "# Define the path to your test images directory\n",
    "path = \"C:/Users/Babacar Gaye/Desktop/mes docs babs/mes etudes/ESSAI 2EM ANNE/PFA/Test/Test_image\"\n",
    "\n",
    "# Define the transformation to apply to each image\n",
    "transform = transforms.Compose([\n",
    "    transforms.Resize((256, 256)),\n",
    "    transforms.ToTensor(),  \n",
    "])\n",
    "\n",
    "# Function to load and preprocess an image\n",
    "def load_and_preprocess_image(image_path, transform):\n",
    "    image = Image.open(image_path)\n",
    "    image = transform(image).unsqueeze(0)  # Add batch dimension\n",
    "    return image\n",
    "\n",
    "# List all files in the directory\n",
    "image_files = os.listdir(path)\n",
    "\n",
    "#Iterate over each image file\n",
    "for image_file in image_files:\n",
    "    image_path = os.path.join(path, image_file)\n",
    "    \n",
    "    # Load and preprocess the image\n",
    "    image = load_and_preprocess_image(image_path, transform)\n",
    "    \n",
    "    # Pass the image through the model\n",
    "    outputs = model1(image) \n",
    "    probabilities = F.softmax(outputs, dim=1)  # Apply softmax to get probabilities\n",
    "    predicted = torch.argmax(outputs, dim=1)\n",
    "    \n",
    "    # Get the probability associated with the predicted class\n",
    "    confidence = probabilities[0][predicted.item()].item() * 100\n",
    "    \n",
    "    # Get the predicted class name from the dictionary\n",
    "    predicted_class_name = dict_names_class[predicted.item()]\n",
    "    \n",
    "    # Print the predicted class name and confidence\n",
    "    print(f\"Image: {image_file}, Predicted Class: {predicted_class_name}, Confidence: {confidence:.2f}%\")"
   ]
  }
 ],
 "metadata": {
  "kernelspec": {
   "display_name": "Python 3 (ipykernel)",
   "language": "python",
   "name": "python3"
  },
  "language_info": {
   "codemirror_mode": {
    "name": "ipython",
    "version": 3
   },
   "file_extension": ".py",
   "mimetype": "text/x-python",
   "name": "python",
   "nbconvert_exporter": "python",
   "pygments_lexer": "ipython3",
   "version": "3.9.13"
  }
 },
 "nbformat": 4,
 "nbformat_minor": 5
}
